{
 "cells": [
  {
   "cell_type": "code",
   "execution_count": 58,
   "metadata": {},
   "outputs": [
    {
     "name": "stderr",
     "output_type": "stream",
     "text": [
      "C:\\Users\\rhaya\\AppData\\Local\\Temp\\ipykernel_3468\\3738924712.py:26: DtypeWarning: Columns (0,1,2,3,5,7) have mixed types. Specify dtype option on import or set low_memory=False.\n",
      "  leitor_pda = pd.read_csv('PDA_PNME_2017_2018_2019.csv', sep=';', encoding='latin-1')\n"
     ]
    },
    {
     "data": {
      "text/plain": [
       "''"
      ]
     },
     "execution_count": 58,
     "metadata": {},
     "output_type": "execute_result"
    }
   ],
   "source": [
    "from fpdf import FPDF\n",
    "import pandas as pd\n",
    "import matplotlib.pyplot as plt\n",
    "\n",
    "# Criando o PDF\n",
    "pdf = FPDF()\n",
    "pdf.add_page()\n",
    "\n",
    "# Configuração básica\n",
    "pdf.set_font(\"Arial\", size=15)\n",
    "pdf.cell(0, 20, \"Análise sobre a quantidade de distribuição de alunos no Brasil\", align='C', ln=True)\n",
    "pdf.ln(10)\n",
    "\n",
    "introducao = (\n",
    "\"Oi, gente! Hoje vou apresentar uma análise que fiz com base em um arquivo de dados sobre a quantidade de alunos \"\n",
    "\"atendidos por várias escolas em diferentes municípios do Brasil. Esses dados vêm de um programa chamado PDA, \"\n",
    "\"que rola entre 2017 e 2019, e mostra como o governo distribuiu recursos para apoiar as escolas.\"\n",
    ")\n",
    "\n",
    "# Adicionando introdução no PDF\n",
    "pdf.set_font(\"Arial\", size=12)\n",
    "pdf.multi_cell(0, 10, introducao)\n",
    "pdf.ln(10)\n",
    "\n",
    "# Lendo o arquivo CSV\n",
    "leitor_pda = pd.read_csv('PDA_PNME_2017_2018_2019.csv', sep=';', encoding='latin-1')\n",
    "\n",
    "# Convertendo a coluna de quantidade de alunos para numérica\n",
    "leitor_pda['QUANT_ALUNADO'] = pd.to_numeric(leitor_pda['QUANT_ALUNADO'], errors='coerce')\n",
    "leitor_pda.dropna(subset=['QUANT_ALUNADO'], inplace=True)\n",
    "\n",
    "# Agrupando os dados por município e somando a quantidade de alunos\n",
    "municipio_alunado = leitor_pda.groupby('NOME_MUNICIPIO')['QUANT_ALUNADO'].sum().nlargest(25)\n",
    "\n",
    "# Gerando gráfico de barras com os 25 municípios com maior número de alunos\n",
    "plt.figure(figsize=(10, 6))\n",
    "municipio_alunado.plot(kind='bar')\n",
    "plt.xlabel('Nome do Município')\n",
    "plt.ylabel('Total de Alunos')\n",
    "plt.title('Total de Alunos por Município (Top 25)')\n",
    "plt.xticks(rotation=90)\n",
    "\n",
    "# Salvando o gráfico como imagem\n",
    "plt.tight_layout()\n",
    "plt.savefig('grafico_municipios.png', format='png')\n",
    "plt.close()\n",
    "\n",
    "# Inserindo a imagem do gráfico no PDF\n",
    "pdf.image('grafico_municipios.png', x=10, y=pdf.get_y() + 10, w=190)  # Posiciona a imagem logo abaixo do texto\n",
    "pdf.ln(140)  # Ajuste de espaço após a imagem\n",
    "\n",
    "resumo_de_dados = (\n",
    "\"O arquivo contém várias informações, mas para essa análise, foquei principalmente em dois pontos:\"\n",
    "\" O nome do município.\"\n",
    "\" A quantidade de alunos em cada escola.\"\n",
    "\" Então, basicamente, a gente vai ver quais cidades tiveram mais alunos beneficiados pelo programa.\"\n",
    ")\n",
    "\n",
    "# Adicionando resumo no PDF\n",
    "pdf.set_font(\"Arial\", size=12)\n",
    "pdf.multi_cell(0, 10, resumo_de_dados)\n",
    "pdf.ln(10)\n",
    "\n",
    "# Gerando gráfico de pizza com os 10 maiores municípios\n",
    "top_10_alunado = municipio_alunado.nlargest(10)\n",
    "plt.figure(figsize=(8, 8))\n",
    "top_10_alunado.plot(kind='pie', autopct='%1.1f%%')\n",
    "plt.title('Distribuição da Quantidade de Alunos (Top 10 Municípios)')\n",
    "plt.ylabel('')\n",
    "\n",
    "# Salvando o gráfico como imagem\n",
    "plt.savefig('grafico_pizza.png', format='png')\n",
    "plt.close()\n",
    "\n",
    "# Adicionando uma nova página e inserindo o texto de análise de municípios\n",
    "pdf.add_page()\n",
    "\n",
    "analise_de_municipios = (\n",
    "\"A primeira coisa que fiz foi organizar os municípios com base no número de alunos. Eu peguei os 25 municípios com a maior quantidade de alunos,\"\n",
    "\" e o resultado foi bem interessante. Por exemplo, Salvador, João Pessoa e Natal são os que lideram o ranking com o maior número de alunos.\"\n",
    ")\n",
    "\n",
    "pdf.set_font(\"Arial\", size=12)\n",
    "pdf.multi_cell(0, 10, analise_de_municipios)\n",
    "pdf.ln(10)  # Reduzido o espaçamento entre o texto e o gráfico\n",
    "\n",
    "# Inserindo o gráfico de pizza após o texto de análise\n",
    "pdf.image('grafico_pizza.png', x=10, y=pdf.get_y() + 10, w=190)\n",
    "pdf.ln(190)  # Ajuste de espaço após a imagem\n",
    "\n",
    "# Estatísticas adicionais\n",
    "total_alunos = leitor_pda['QUANT_ALUNADO'].sum()\n",
    "municipio_max_alunos = municipio_alunado.idxmax()\n",
    "municipio_min_alunos = municipio_alunado.idxmin()\n",
    "\n",
    "# Adicionando texto com estatísticas no PDF\n",
    "pdf.set_font(\"Arial\", size=12)\n",
    "pdf.cell(0, 10, f\"Total de alunos: {total_alunos}\", ln=True)\n",
    "pdf.cell(0, 10, f\"Município com mais alunos: {municipio_max_alunos}\", ln=True)\n",
    "pdf.cell(0, 10, f\"Município com menos alunos: {municipio_min_alunos}\", ln=True)\n",
    "\n",
    "# Adicionando uma nova página e inserindo o resto da apresentação\n",
    "pdf.add_page()\n",
    "\n",
    "distribuicao_e_estatisticas = (\n",
    "\"Depois, também fiz uma análise mais visual, criando um gráfico de pizza para mostrar como esses números se distribuem entre os 10 maiores municípios.\"\n",
    "\" Isso deixa claro que Salvador está bem à frente, mas outros municípios também têm uma fatia significativa do total.\"\n",
    "\" Agora, alguns números pra complementar:\"\n",
    "\n",
    "\"No total, somando tudo,\"\n",
    "\" Salvador é o município com o maior número de alunos.\"\n",
    "\" E o município que ficou com menos alunos dentro do Top 25 foi Simões Filho.\"\n",
    ")\n",
    "\n",
    "pdf.set_font(\"Arial\", size=12)\n",
    "pdf.multi_cell(0, 10, distribuicao_e_estatisticas)\n",
    "pdf.ln(10)\n",
    "\n",
    "conclusao = (\n",
    "\"Concluindo no geral, o que dá pra perceber é que a maioria dos alunos beneficiados está concentrada nas capitais e em cidades maiores.\"\n",
    "\" Salvador realmente se destaca como a cidade que mais recebeu apoio, e esse tipo de análise ajuda a entender melhor como os recursos do programa foram distribuídos pelo país.\"\n",
    ")\n",
    "\n",
    "pdf.set_font(\"Arial\", size=12)\n",
    "pdf.multi_cell(0, 10, conclusao)\n",
    "pdf.ln(10)\n",
    "\n",
    "analise_geral = (\n",
    "\"A análise Geral dos dados do Programa Dinheiro Direto na Escola (PDA) entre 2017 e 2019 mostra como os recursos foram distribuídos nas escolas de várias cidades do Brasil.\"\n",
    "\" Os municípios com o maior número de alunos atendidos foram Salvador, João Pessoa e Natal, indicando que as capitais receberam mais recursos devido à maior demanda.\"\n",
    "\" Esses dados destacam a concentração de apoio em cidades grandes, que precisam de mais suporte por atenderem mais alunos.\"\n",
    "\" No geral, a análise ajuda a entender melhor como o programa foi distribuído e em quais regiões seu impacto foi maior.\"\n",
    ")\n",
    "\n",
    "pdf.set_font(\"Arial\", size=12)\n",
    "pdf.multi_cell(0, 10, analise_geral)\n",
    "pdf.ln(10)\n",
    "\n",
    "# Salvando o PDF\n",
    "pdf.output('ApresentacaoKick.pdf')\n"
   ]
  },
  {
   "cell_type": "markdown",
   "metadata": {},
   "source": [
    "Introdução:\n",
    "\n",
    "Oi, gente! Hoje vou apresentar uma análise que fiz com base em um arquivo de dados sobre a quantidade de alunos atendidos por várias escolas em diferentes municípios do Brasil. Esses dados vêm de um programa chamado PDA, que rola entre 2017 e 2019, e mostra como o governo distribuiu recursos para apoiar as escolas.\n",
    "\n"
   ]
  },
  {
   "cell_type": "markdown",
   "metadata": {},
   "source": [
    "Resumo dos Dados:\n",
    "\n",
    "O arquivo contém várias informações, mas para essa análise, foquei principalmente em dois pontos:\n",
    "\n",
    "O nome do município.\n",
    "A quantidade de alunos em cada escola.\n",
    "Então, basicamente, a gente vai ver quais cidades tiveram mais alunos beneficiados pelo programa.\n"
   ]
  },
  {
   "cell_type": "markdown",
   "metadata": {},
   "source": [
    "Análise de Municípios:\n",
    "\n",
    "A primeira coisa que fiz foi organizar os municípios com base no número de alunos. Eu peguei os 25 municípios com a maior quantidade de alunos, e o resultado foi bem interessante. Por exemplo, Salvador, João Pessoa e Natal são os que lideram o ranking com o maior número de alunos.\n"
   ]
  },
  {
   "cell_type": "markdown",
   "metadata": {},
   "source": [
    "Distribuição Percentual:\n",
    "\n",
    "Depois, também fiz uma análise mais visual, criando um gráfico de pizza para mostrar como esses números se distribuem entre os 10 maiores municípios. Isso deixa claro que Salvador está bem à frente, mas outros municípios também têm uma fatia significativa do total.\n",
    "\n"
   ]
  },
  {
   "cell_type": "markdown",
   "metadata": {},
   "source": [
    "\n",
    "\n",
    "Estatísticas Importantes:\n",
    "\n",
    "Agora, alguns números pra complementar:\n",
    "\n",
    "No total, somando tudo, temos X alunos no dataset.\n",
    "Salvador é o município com o maior número de alunos.\n",
    "E o município que ficou com menos alunos dentro do Top 25 foi Simões Filho.\n"
   ]
  },
  {
   "cell_type": "markdown",
   "metadata": {},
   "source": [
    "Conclusão:\n",
    "\n",
    "No geral, o que dá pra perceber é que a maioria dos alunos beneficiados está concentrada nas capitais e em cidades maiores. Salvador realmente se destaca como a cidade que mais recebeu apoio, e esse tipo de análise ajuda a entender melhor como os recursos do programa foram distribuídos pelo país."
   ]
  },
  {
   "cell_type": "markdown",
   "metadata": {},
   "source": [
    "Análise Geral:\n",
    "\n",
    "A análise dos dados do Programa Dinheiro Direto na Escola (PDA) entre 2017 e 2019 mostra como os recursos foram distribuídos nas escolas de várias cidades do Brasil.\n",
    "\n",
    "Os municípios com o maior número de alunos atendidos foram Salvador, João Pessoa e Natal, indicando que as capitais receberam mais recursos devido à maior demanda. Esses dados destacam a concentração de apoio em cidades grandes, que precisam de mais suporte por atenderem mais alunos.\n",
    "\n",
    "No geral, a análise ajuda a entender melhor como o programa foi distribuído e em quais regiões seu impacto foi maior.\n"
   ]
  }
 ],
 "metadata": {
  "kernelspec": {
   "display_name": "Python 3",
   "language": "python",
   "name": "python3"
  },
  "language_info": {
   "codemirror_mode": {
    "name": "ipython",
    "version": 3
   },
   "file_extension": ".py",
   "mimetype": "text/x-python",
   "name": "python",
   "nbconvert_exporter": "python",
   "pygments_lexer": "ipython3",
   "version": "3.12.4"
  }
 },
 "nbformat": 4,
 "nbformat_minor": 2
}
